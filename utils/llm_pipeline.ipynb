{
 "cells": [
  {
   "cell_type": "code",
   "execution_count": 41,
   "outputs": [],
   "source": [
    "import torch\n",
    "from transformers import T5ForConditionalGeneration, T5Tokenizer"
   ],
   "metadata": {
    "collapsed": false,
    "ExecuteTime": {
     "end_time": "2024-04-11T10:43:14.446052Z",
     "start_time": "2024-04-11T10:43:14.442061Z"
    }
   },
   "id": "d1ba0806ab377ce2"
  },
  {
   "cell_type": "markdown",
   "source": [
    "# Load and prepare LLM from open source"
   ],
   "metadata": {
    "collapsed": false
   },
   "id": "9b3e2ace423a4c93"
  },
  {
   "cell_type": "code",
   "execution_count": 53,
   "outputs": [],
   "source": [
    "MODEL_NAME = 'cointegrated/rut5-base-absum'\n",
    "model = T5ForConditionalGeneration.from_pretrained(MODEL_NAME)\n",
    "tokenizer = T5Tokenizer.from_pretrained(MODEL_NAME)\n",
    "model.eval();"
   ],
   "metadata": {
    "collapsed": false,
    "ExecuteTime": {
     "end_time": "2024-04-11T10:57:42.997076Z",
     "start_time": "2024-04-11T10:57:39.540918Z"
    }
   },
   "id": "7b5bc441965fbbd7"
  },
  {
   "cell_type": "markdown",
   "source": [
    "# Prepare inference function"
   ],
   "metadata": {
    "collapsed": false
   },
   "id": "6b6e29aed5a1bde"
  },
  {
   "cell_type": "code",
   "execution_count": 54,
   "outputs": [],
   "source": [
    "def summarize(\n",
    "    text, n_words=None, compression=None,\n",
    "    max_length=1000, num_beams=3, do_sample=False, repetition_penalty=10.0, \n",
    "    **kwargs\n",
    "):\n",
    "    \"\"\"\n",
    "    Summarize the text\n",
    "    The following parameters are mutually exclusive:\n",
    "    - n_words (int) is an approximate number of words to generate.\n",
    "    - compression (float) is an approximate length ratio of summary and original text.\n",
    "    \"\"\"\n",
    "    if n_words:\n",
    "        text = '[{}] '.format(n_words) + text\n",
    "    elif compression:\n",
    "        text = '[{0:.1g}] '.format(compression) + text\n",
    "    x = tokenizer(text, return_tensors='pt', padding=True).to(model.device)\n",
    "    with torch.inference_mode():\n",
    "        out = model.generate(\n",
    "            **x, \n",
    "            max_length=max_length, num_beams=num_beams, \n",
    "            do_sample=do_sample, repetition_penalty=repetition_penalty, \n",
    "            **kwargs\n",
    "        )\n",
    "    return tokenizer.decode(out[0], skip_special_tokens=True)"
   ],
   "metadata": {
    "collapsed": false,
    "ExecuteTime": {
     "end_time": "2024-04-11T10:57:47.216112Z",
     "start_time": "2024-04-11T10:57:47.213430Z"
    }
   },
   "id": "b9f895ec5d9df3b4"
  },
  {
   "cell_type": "markdown",
   "source": [
    "# Using example from recognized audio"
   ],
   "metadata": {
    "collapsed": false
   },
   "id": "345c89f9005613fb"
  },
  {
   "cell_type": "code",
   "execution_count": 61,
   "outputs": [
    {
     "name": "stdout",
     "output_type": "stream",
     "text": [
      " Я провела анализ и обработку ГИС и успешно рассчитала 3D-модель пласта. Это позволило нам получить подробное представление о структуре и характеристиках пласта, что, безусловно, имеет важное значение для разработки нефтяных месторождений. Наша 3D-модель дает нам возможность прогнозировать потенциальные места добычи нефти, оптимизировать работу скважин и принимать обоснованные решения на основе точных данных.\n"
     ]
    }
   ],
   "source": [
    "path_to_doc = \"../content/recognized_transcription.txt\"\n",
    "with open(path_to_doc) as f:\n",
    "    text = f.read()\n",
    "print(text)"
   ],
   "metadata": {
    "collapsed": false,
    "ExecuteTime": {
     "end_time": "2024-04-11T11:02:29.556635Z",
     "start_time": "2024-04-11T11:02:29.552413Z"
    }
   },
   "id": "4709909e6deea8a3"
  },
  {
   "cell_type": "code",
   "execution_count": 62,
   "outputs": [
    {
     "name": "stdout",
     "output_type": "stream",
     "text": [
      "Наша 3D-модель дает нам возможность прогнозировать потенциальные места добычи нефти.\n"
     ]
    }
   ],
   "source": [
    "print(summarize(text))"
   ],
   "metadata": {
    "collapsed": false,
    "ExecuteTime": {
     "end_time": "2024-04-11T11:02:36.176473Z",
     "start_time": "2024-04-11T11:02:33.699532Z"
    }
   },
   "id": "a81d2a1299deee0"
  },
  {
   "cell_type": "code",
   "execution_count": null,
   "outputs": [],
   "source": [],
   "metadata": {
    "collapsed": false
   },
   "id": "252cb3600c6be3e9"
  }
 ],
 "metadata": {
  "kernelspec": {
   "display_name": "Python 3",
   "language": "python",
   "name": "python3"
  },
  "language_info": {
   "codemirror_mode": {
    "name": "ipython",
    "version": 2
   },
   "file_extension": ".py",
   "mimetype": "text/x-python",
   "name": "python",
   "nbconvert_exporter": "python",
   "pygments_lexer": "ipython2",
   "version": "2.7.6"
  }
 },
 "nbformat": 4,
 "nbformat_minor": 5
}
